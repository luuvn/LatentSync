{
  "cells": [
    {
      "cell_type": "markdown",
      "source": [
        "# Installation"
      ],
      "metadata": {
        "id": "vZ3ejGoONkhQ"
      },
      "id": "vZ3ejGoONkhQ"
    },
    {
      "cell_type": "code",
      "metadata": {
        "id": "1KoVEbwKNWpJ"
      },
      "source": [
        "%cd /root\n",
        "!git clone https://github.com/facefusion/facefusion.git\n",
        "%cd facefusion\n",
        "!pip3 install torch torchvision --index-url https://download.pytorch.org/whl/cu128\n",
        "!!pip install gradio-rangeslider==0.0.8\n",
        "!pip install gradio==5.25.2\n",
        "!pip install numpy==1.26.4\n",
        "!pip install onnx==1.17.0\n",
        "!pip install onnxruntime-gpu==1.18.0\n",
        "!pip install opencv-python==4.11.0.86\n",
        "!pip install psutil==7.0.0\n",
        "!pip install tqdm==4.67.1\n",
        "!pip install scipy==1.15.2"
      ],
      "execution_count": null,
      "outputs": [],
      "id": "1KoVEbwKNWpJ"
    },
    {
      "cell_type": "markdown",
      "source": [
        "# FFMPEG Installation"
      ],
      "metadata": {
        "id": "qIh0rhDxNrYf"
      },
      "id": "qIh0rhDxNrYf"
    },
    {
      "cell_type": "code",
      "metadata": {
        "id": "CKixCyPQNWpK"
      },
      "source": [
        "!apt-get -y update\n",
        "!apt-get install -y libglib2.0-0 libgl1\n",
        "!apt-get install -y ffmpeg"
      ],
      "execution_count": null,
      "outputs": [],
      "id": "CKixCyPQNWpK"
    },
    {
      "cell_type": "markdown",
      "source": [
        "# Numpy Installation"
      ],
      "metadata": {
        "id": "786N799fNy_P"
      },
      "id": "786N799fNy_P"
    },
    {
      "cell_type": "code",
      "metadata": {
        "id": "Bq6UfucbNWpL"
      },
      "source": [
        "!pip install numpy==1.26.0"
      ],
      "execution_count": null,
      "outputs": [],
      "id": "Bq6UfucbNWpL"
    },
    {
      "cell_type": "markdown",
      "source": [
        "# Launch With Pinggy"
      ],
      "metadata": {
        "id": "xtrFtKG0N7X3"
      },
      "id": "xtrFtKG0N7X3"
    },
    {
      "cell_type": "code",
      "metadata": {
        "id": "gONB_3CNNWpM"
      },
      "source": [
        "# Starting the Web UI with pinggy\n",
        "\n",
        "from multiprocessing import Process\n",
        "import sys\n",
        "import time\n",
        "\n",
        "!touch log.txt\n",
        "open('log.txt', 'w').close()\n",
        "\n",
        "def run_app():\n",
        "    cmd = f\"python facefusion.py run & ssh -o StrictHostKeyChecking=no -p 80 -R0:localhost:7860 a.pinggy.io > log.txt\"\n",
        "    get_ipython().system(cmd)\n",
        "\n",
        "def print_url():\n",
        "    print(\"waiting for output\")\n",
        "    time.sleep(2)\n",
        "    sys.stdout.flush()\n",
        "\n",
        "    found = False\n",
        "    with open('log.txt', 'r') as file:\n",
        "        end_word = '.pinggy.link'\n",
        "        for line in file:\n",
        "            start_index = line.find(\"http:\")\n",
        "            if start_index != -1:\n",
        "                end_index = line.find(end_word, start_index)\n",
        "                if end_index != -1:\n",
        "                    print(\"😁 😁 😁\")\n",
        "                    print(\"URL: \" + line[start_index:end_index + len(end_word)])\n",
        "                    print(\"😁 😁 😁\")\n",
        "                    found = True\n",
        "    if not found:\n",
        "        print_url()\n",
        "    else:\n",
        "        with open('log.txt', 'r') as file:\n",
        "            for line in file:\n",
        "                print(line)\n",
        "\n",
        "p_app = Process(target=run_app)\n",
        "p_url = Process(target=print_url)\n",
        "p_app.start()\n",
        "p_url.start()\n",
        "p_app.join()\n",
        "p_url.join()"
      ],
      "execution_count": null,
      "outputs": [],
      "id": "gONB_3CNNWpM"
    }
  ],
  "metadata": {
    "kernelspec": {
      "display_name": "Python",
      "language": "python",
      "name": "python3"
    },
    "language_info": {
      "codemirror_mode": {
        "name": "ipython",
        "version": 3
      },
      "file_extension": ".py",
      "mimetype": "text/x-python",
      "name": "python",
      "nbconvert_exporter": "python",
      "pygments_lexer": "ipython3"
    },
    "colab": {
      "provenance": []
    }
  },
  "nbformat": 4,
  "nbformat_minor": 5
}